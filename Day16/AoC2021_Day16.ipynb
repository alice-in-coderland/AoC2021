{
 "cells": [
  {
   "cell_type": "code",
   "execution_count": 1,
   "metadata": {},
   "outputs": [],
   "source": [
    "decode = ['''0 = 0000\n",
    "1 = 0001\n",
    "2 = 0010\n",
    "3 = 0011\n",
    "4 = 0100\n",
    "5 = 0101\n",
    "6 = 0110\n",
    "7 = 0111\n",
    "8 = 1000\n",
    "9 = 1001\n",
    "A = 1010\n",
    "B = 1011\n",
    "C = 1100\n",
    "D = 1101\n",
    "E = 1110\n",
    "F = 1111'''][0].split('\\n')"
   ]
  },
  {
   "cell_type": "code",
   "execution_count": 2,
   "metadata": {},
   "outputs": [],
   "source": [
    "hexvals = [elem.split(' = ')[0] for elem in decode]\n",
    "bitvals = [elem.split(' = ')[1] for elem in decode]"
   ]
  },
  {
   "cell_type": "code",
   "execution_count": 3,
   "metadata": {},
   "outputs": [],
   "source": [
    "decode = { hexval : bitval for hexval, bitval in zip(hexvals, bitvals) }"
   ]
  },
  {
   "cell_type": "code",
   "execution_count": 4,
   "metadata": {},
   "outputs": [],
   "source": [
    "import math"
   ]
  },
  {
   "cell_type": "code",
   "execution_count": 5,
   "metadata": {
    "tags": []
   },
   "outputs": [],
   "source": [
    "total_version = 0\n",
    "\n",
    "def unpack(packet):\n",
    "    global total_version\n",
    "    version = int(packet[0:3], base = 2)\n",
    "    typeID = int(packet[3:6], base = 2)\n",
    "    total_version += version\n",
    "    if typeID == 4:\n",
    "        last = False\n",
    "        number = ''\n",
    "        index = 6\n",
    "        while not last:\n",
    "            if packet[index] == '0': \n",
    "                last = True\n",
    "            number += packet[index+1:index+5]\n",
    "            index += 5\n",
    "        no = int(number, base = 2)\n",
    "        return(packet[:index], no)\n",
    "    else:\n",
    "        length, nsp = 0, 0\n",
    "        ID = packet[6]\n",
    "        numberlist = []\n",
    "        answer = 0\n",
    "        if ID == '0':\n",
    "            length = int(packet[7:22], base = 2)\n",
    "            subpackets = packet[22:22+length]\n",
    "            while '1' in subpackets:\n",
    "                ind, val = unpack(subpackets)\n",
    "                subpackets = subpackets[len(ind):]\n",
    "                numberlist.append(val)\n",
    "            \n",
    "            match typeID:\n",
    "                case 0:\n",
    "                    answer = sum(numberlist)\n",
    "                case 1:\n",
    "                    answer = math.prod(numberlist)\n",
    "                case 2:\n",
    "                    answer = min(numberlist)\n",
    "                case 3:\n",
    "                    answer = max(numberlist)\n",
    "                case 5:\n",
    "                    if numberlist[0] > numberlist[1]: answer = 1\n",
    "                    else: answer = 0\n",
    "                case 6:\n",
    "                    if numberlist[0] < numberlist[1]: answer = 1\n",
    "                    else: answer = 0\n",
    "                case 7:\n",
    "                    if numberlist[0] == numberlist[1]: answer = 1\n",
    "                    else: answer = 0\n",
    "                    \n",
    "            return(packet[:22+length], answer)\n",
    "        elif ID == '1':\n",
    "            nsp = int(packet[7:18], base = 2)\n",
    "            subpackets = packet[18:]\n",
    "            howfar = 18\n",
    "            for i in range(0, nsp):\n",
    "                ind, val = unpack(subpackets)\n",
    "                howfar += len(ind)\n",
    "                numberlist.append(val)\n",
    "                subpackets = subpackets[len(ind):]\n",
    "                \n",
    "            match typeID:\n",
    "                case 0:\n",
    "                    answer = sum(numberlist)\n",
    "                case 1:\n",
    "                    answer = math.prod(numberlist)\n",
    "                case 2:\n",
    "                    answer = min(numberlist)\n",
    "                case 3:\n",
    "                    answer = max(numberlist)\n",
    "                case 5:\n",
    "                    if numberlist[0] > numberlist[1]: answer = 1\n",
    "                    else: answer = 0\n",
    "                case 6:\n",
    "                    if numberlist[0] < numberlist[1]: answer = 1\n",
    "                    else: answer = 0\n",
    "                case 7:\n",
    "                    if numberlist[0] == numberlist[1]: answer = 1\n",
    "                    else: answer = 0\n",
    "                    \n",
    "            return(packet[:howfar], answer)\n",
    "        "
   ]
  },
  {
   "cell_type": "code",
   "execution_count": 6,
   "metadata": {},
   "outputs": [
    {
     "name": "stdout",
     "output_type": "stream",
     "text": [
      "963\n",
      "1549026292886\n"
     ]
    }
   ],
   "source": [
    "infile = open('input.txt')\n",
    "inpacket = [elem.strip() for elem in infile.readlines()][0]\n",
    "\n",
    "code = ''\n",
    "for char in inpacket:\n",
    "    code += decode[char]               \n",
    "\n",
    "p, ans = unpack(code)\n",
    "\n",
    "print(total_version) #part1\n",
    "print(ans) #part2"
   ]
  },
  {
   "cell_type": "code",
   "execution_count": null,
   "metadata": {},
   "outputs": [],
   "source": []
  }
 ],
 "metadata": {
  "kernelspec": {
   "display_name": "Python 3 (ipykernel)",
   "language": "python",
   "name": "python3"
  },
  "language_info": {
   "codemirror_mode": {
    "name": "ipython",
    "version": 3
   },
   "file_extension": ".py",
   "mimetype": "text/x-python",
   "name": "python",
   "nbconvert_exporter": "python",
   "pygments_lexer": "ipython3",
   "version": "3.10.1"
  }
 },
 "nbformat": 4,
 "nbformat_minor": 4
}
