{
 "cells": [
  {
   "cell_type": "code",
   "execution_count": 1,
   "metadata": {},
   "outputs": [],
   "source": [
    "infile = open('input.txt')\n",
    "inlist = [elem.strip() for elem in infile.readlines()]\n",
    "\n",
    "coords = [[int(val) for val in elem.split(',')] for elem in inlist if ('fold' not in elem and elem != '')]"
   ]
  },
  {
   "cell_type": "code",
   "execution_count": 2,
   "metadata": {},
   "outputs": [],
   "source": [
    "folds = [elem.strip('fold along ') for elem in inlist if 'fold' in elem]"
   ]
  },
  {
   "cell_type": "code",
   "execution_count": 3,
   "metadata": {},
   "outputs": [
    {
     "data": {
      "text/plain": [
       "'x=655'"
      ]
     },
     "execution_count": 3,
     "metadata": {},
     "output_type": "execute_result"
    }
   ],
   "source": [
    "folds[0]"
   ]
  },
  {
   "cell_type": "code",
   "execution_count": 4,
   "metadata": {},
   "outputs": [],
   "source": [
    "x = 655"
   ]
  },
  {
   "cell_type": "code",
   "execution_count": 5,
   "metadata": {},
   "outputs": [
    {
     "data": {
      "text/plain": [
       "592"
      ]
     },
     "execution_count": 5,
     "metadata": {},
     "output_type": "execute_result"
    }
   ],
   "source": [
    "newcoords = []\n",
    "for coord in coords:\n",
    "    if coord[0] < x:\n",
    "        if coord not in newcoords: newcoords.append(coord)\n",
    "    if coord[0] > x:\n",
    "        newx = coord[0] - ((coord[0]-x)*2)\n",
    "        newcoord = [newx, coord[1]]\n",
    "        if newcoord not in newcoords: newcoords.append(newcoord)\n",
    "len(newcoords)"
   ]
  },
  {
   "cell_type": "code",
   "execution_count": 6,
   "metadata": {},
   "outputs": [],
   "source": [
    "def foldx(coordlist, x):\n",
    "    newcoords = []\n",
    "    for coord in coordlist:\n",
    "        if coord[0] < x:\n",
    "            if coord not in newcoords: newcoords.append(coord)\n",
    "        if coord[0] > x:\n",
    "            newx = coord[0] - ((coord[0]-x)*2)\n",
    "            newcoord = [newx, coord[1]]\n",
    "            if newcoord not in newcoords: newcoords.append(newcoord)\n",
    "    return(newcoords)\n",
    "            \n",
    "def foldy(coordlist, y):\n",
    "    newcoords = []\n",
    "    for coord in coordlist:\n",
    "        if coord[1] < y:\n",
    "            if coord not in newcoords: newcoords.append(coord)\n",
    "        if coord[1] > y:\n",
    "            newy = coord[1] - ((coord[1]-y)*2)\n",
    "            newcoord = [coord[0], newy]\n",
    "            if newcoord not in newcoords: newcoords.append(newcoord)\n",
    "    return(newcoords)"
   ]
  },
  {
   "cell_type": "code",
   "execution_count": 7,
   "metadata": {
    "tags": []
   },
   "outputs": [],
   "source": [
    "updated = []\n",
    "for fold in folds:\n",
    "    instruction = fold.split('=')\n",
    "    if instruction[0] == 'x': \n",
    "        updated = foldx(coords, int(instruction[1]))\n",
    "    elif instruction[0] == 'y':\n",
    "        updated = foldy(coords, int(instruction[1]))\n",
    "    coords = updated"
   ]
  },
  {
   "cell_type": "code",
   "execution_count": 8,
   "metadata": {
    "tags": []
   },
   "outputs": [],
   "source": [
    "maxx, maxy = 0, 0\n",
    "for coord in coords:\n",
    "    if coord[0] > maxx: maxx = coord[0]\n",
    "    if coord[1] > maxy: maxy = coord[1]"
   ]
  },
  {
   "cell_type": "code",
   "execution_count": 9,
   "metadata": {},
   "outputs": [],
   "source": [
    "import numpy as np"
   ]
  },
  {
   "cell_type": "code",
   "execution_count": 10,
   "metadata": {},
   "outputs": [],
   "source": [
    "code = np.zeros((maxy+1, maxx+1))"
   ]
  },
  {
   "cell_type": "code",
   "execution_count": 11,
   "metadata": {},
   "outputs": [],
   "source": [
    "for coord in coords:\n",
    "    code[coord[1],coord[0]] = 1"
   ]
  },
  {
   "cell_type": "code",
   "execution_count": 12,
   "metadata": {},
   "outputs": [],
   "source": [
    "import matplotlib.pyplot as plt"
   ]
  },
  {
   "cell_type": "code",
   "execution_count": 13,
   "metadata": {},
   "outputs": [
    {
     "data": {
      "text/plain": [
       "<matplotlib.image.AxesImage at 0x11505bac0>"
      ]
     },
     "execution_count": 13,
     "metadata": {},
     "output_type": "execute_result"
    },
    {
     "data": {
      "image/png": "[encoded data removed]",
      "text/plain": [
       "<Figure size 432x288 with 1 Axes>"
      ]
     },
     "metadata": {
      "needs_background": "light"
     },
     "output_type": "display_data"
    }
   ],
   "source": [
    "plt.imshow(code)"
   ]
  },
  {
   "cell_type": "code",
   "execution_count": null,
   "metadata": {},
   "outputs": [],
   "source": []
  }
 ],
 "metadata": {
  "kernelspec": {
   "display_name": "Python 3",
   "language": "python",
   "name": "python3"
  },
  "language_info": {
   "codemirror_mode": {
    "name": "ipython",
    "version": 3
   },
   "file_extension": ".py",
   "mimetype": "text/x-python",
   "name": "python",
   "nbconvert_exporter": "python",
   "pygments_lexer": "ipython3",
   "version": "3.8.0"
  }
 },
 "nbformat": 4,
 "nbformat_minor": 4
}
