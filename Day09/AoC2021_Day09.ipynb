{
 "cells": [
  {
   "cell_type": "code",
   "execution_count": 1,
   "metadata": {},
   "outputs": [],
   "source": [
    "infile = open('input.txt')\n",
    "inlist = infile.readlines()"
   ]
  },
  {
   "cell_type": "code",
   "execution_count": 2,
   "metadata": {},
   "outputs": [],
   "source": [
    "import numpy as np"
   ]
  },
  {
   "cell_type": "code",
   "execution_count": 3,
   "metadata": {},
   "outputs": [],
   "source": [
    "inlist = [list(elem.strip()) for elem in inlist]\n",
    "heightmap = []\n",
    "for elem in inlist:\n",
    "    heightmap.append([int(val) for val in elem])"
   ]
  },
  {
   "cell_type": "code",
   "execution_count": 4,
   "metadata": {},
   "outputs": [],
   "source": [
    "heightarray = np.array(heightmap)"
   ]
  },
  {
   "cell_type": "code",
   "execution_count": 5,
   "metadata": {},
   "outputs": [],
   "source": [
    "minima = np.ones_like(heightarray)\n",
    "\n",
    "ar1 = heightarray[1:,:] < np.roll(heightarray, 1, axis=0)[1:,:]\n",
    "ar2 = heightarray[:-1,:] < np.roll(heightarray, -1, axis=0)[:-1,:]\n",
    "ar3 = heightarray[:,1:] < np.roll(heightarray, 1, axis=1)[:,1:]\n",
    "ar4 = heightarray[:,:-1] < np.roll(heightarray, -1, axis=1)[:,:-1]\n",
    "\n",
    "minima[1:,:] = np.logical_and(minima[1:,:], ar1)\n",
    "minima[:-1,:] = np.logical_and(minima[:-1,:], ar2)\n",
    "minima[:,1:] = np.logical_and(minima[:,1:], ar3)\n",
    "minima[:,:-1] = np.logical_and(minima[:,:-1], ar4)\n",
    "\n",
    "risk = np.sum(heightarray*minima) + np.sum(minima)"
   ]
  },
  {
   "cell_type": "code",
   "execution_count": 6,
   "metadata": {},
   "outputs": [
    {
     "data": {
      "text/plain": [
       "512"
      ]
     },
     "execution_count": 6,
     "metadata": {},
     "output_type": "execute_result"
    }
   ],
   "source": [
    "risk"
   ]
  },
  {
   "cell_type": "code",
   "execution_count": 7,
   "metadata": {},
   "outputs": [],
   "source": [
    "import matplotlib.pyplot as plt\n",
    "from skimage import data, filters, color, morphology\n",
    "from skimage.segmentation import flood, flood_fill"
   ]
  },
  {
   "cell_type": "code",
   "execution_count": 8,
   "metadata": {},
   "outputs": [],
   "source": [
    "minind = np.nonzero(minima)"
   ]
  },
  {
   "cell_type": "code",
   "execution_count": 9,
   "metadata": {},
   "outputs": [],
   "source": [
    "sizes = []\n",
    "fp = np.array([[0,1,0],[1,1,1],[0,1,0]])\n",
    "for val1, val2 in zip(minind[0], minind[1]):\n",
    "    fl = flood(heightarray, (val1, val2), footprint=fp, tolerance = 9-(heightarray[val1][val2])-1)\n",
    "    sizes.append(fl.sum())\n",
    "    #plt.imshow(fl)\n",
    "    #input(\"Press Enter to continue...\")\n",
    "sizes = sorted(sizes)"
   ]
  },
  {
   "cell_type": "code",
   "execution_count": 10,
   "metadata": {},
   "outputs": [
    {
     "data": {
      "text/plain": [
       "1600104"
      ]
     },
     "execution_count": 10,
     "metadata": {},
     "output_type": "execute_result"
    }
   ],
   "source": [
    "np.prod(sizes[-3:])"
   ]
  }
 ],
 "metadata": {
  "kernelspec": {
   "display_name": "Python 3",
   "language": "python",
   "name": "python3"
  },
  "language_info": {
   "codemirror_mode": {
    "name": "ipython",
    "version": 3
   },
   "file_extension": ".py",
   "mimetype": "text/x-python",
   "name": "python",
   "nbconvert_exporter": "python",
   "pygments_lexer": "ipython3",
   "version": "3.8.0"
  }
 },
 "nbformat": 4,
 "nbformat_minor": 4
}
