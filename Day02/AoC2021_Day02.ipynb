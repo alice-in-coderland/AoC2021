{
 "cells": [
  {
   "cell_type": "code",
   "execution_count": 1,
   "metadata": {},
   "outputs": [],
   "source": [
    "infile = open('input.txt')\n",
    "inlist = infile.readlines()"
   ]
  },
  {
   "cell_type": "code",
   "execution_count": 13,
   "metadata": {},
   "outputs": [],
   "source": [
    "directions = []\n",
    "for i, elem in enumerate(inlist):\n",
    "    directions.append([elem.split()[0], int(elem.split()[1])])\n",
    "                     \n",
    "#print(directions)"
   ]
  },
  {
   "cell_type": "code",
   "execution_count": 17,
   "metadata": {
    "tags": []
   },
   "outputs": [
    {
     "name": "stdout",
     "output_type": "stream",
     "text": [
      "1990000\n"
     ]
    }
   ],
   "source": [
    "horizontal = 0\n",
    "depth = 0\n",
    "for direction in directions:\n",
    "    if direction[0] == 'forward': horizontal += direction[1]\n",
    "    elif direction[0] == 'down': depth += direction[1]\n",
    "    elif direction[0] == 'up': depth -= direction[1]\n",
    "    \n",
    "print(horizontal * depth)"
   ]
  },
  {
   "cell_type": "code",
   "execution_count": 18,
   "metadata": {},
   "outputs": [
    {
     "name": "stdout",
     "output_type": "stream",
     "text": [
      "1975421260\n"
     ]
    }
   ],
   "source": [
    "aim = 0\n",
    "horizontal = 0\n",
    "depth = 0\n",
    "\n",
    "for direction in directions:\n",
    "    if direction[0] == 'forward': \n",
    "        horizontal += direction[1]\n",
    "        depth += aim * direction[1]\n",
    "    elif direction[0] == 'down': \n",
    "        aim += direction[1]\n",
    "    elif direction[0] == 'up': \n",
    "        aim -= direction[1]\n",
    "        \n",
    "print(horizontal * depth)"
   ]
  },
  {
   "cell_type": "code",
   "execution_count": null,
   "metadata": {},
   "outputs": [],
   "source": []
  }
 ],
 "metadata": {
  "kernelspec": {
   "display_name": "Python 3",
   "language": "python",
   "name": "python3"
  },
  "language_info": {
   "codemirror_mode": {
    "name": "ipython",
    "version": 3
   },
   "file_extension": ".py",
   "mimetype": "text/x-python",
   "name": "python",
   "nbconvert_exporter": "python",
   "pygments_lexer": "ipython3",
   "version": "3.8.0"
  }
 },
 "nbformat": 4,
 "nbformat_minor": 4
}
