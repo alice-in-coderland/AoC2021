{
 "cells": [
  {
   "cell_type": "code",
   "execution_count": 1,
   "metadata": {},
   "outputs": [],
   "source": [
    "infile = open('input.txt')\n",
    "inlist = infile.readlines()[0].split()"
   ]
  },
  {
   "cell_type": "code",
   "execution_count": 2,
   "metadata": {
    "tags": []
   },
   "outputs": [
    {
     "name": "stdout",
     "output_type": "stream",
     "text": [
      "386755\n"
     ]
    }
   ],
   "source": [
    "school = [int(elem) for elem in inlist[0].split(',')]\n",
    "fish_count = [0]*9\n",
    "days = 80\n",
    "\n",
    "for fish in school:\n",
    "    fish_count[fish] += 1\n",
    "\n",
    "def make_new_fish(fishlist):\n",
    "    newfish_count = [0]*9\n",
    "    for i in range(0, 8):\n",
    "        newfish_count[i] = fishlist[i+1]\n",
    "    newfish_count[8] = fishlist[0]\n",
    "    newfish_count[6] += fishlist[0]\n",
    "    return newfish_count\n",
    "\n",
    "newfish = fish_count.copy()\n",
    "\n",
    "for day in range(0, days):\n",
    "    newfish = make_new_fish(newfish)\n",
    "\n",
    "print(sum(newfish))"
   ]
  },
  {
   "cell_type": "code",
   "execution_count": 3,
   "metadata": {},
   "outputs": [
    {
     "name": "stdout",
     "output_type": "stream",
     "text": [
      "1732731810807\n"
     ]
    }
   ],
   "source": [
    "days = 256\n",
    "\n",
    "newfish = fish_count.copy()\n",
    "\n",
    "for day in range(0, days):\n",
    "    newfish = make_new_fish(newfish)\n",
    "\n",
    "print(sum(newfish))"
   ]
  }
 ],
 "metadata": {
  "kernelspec": {
   "display_name": "Python 3",
   "language": "python",
   "name": "python3"
  },
  "language_info": {
   "codemirror_mode": {
    "name": "ipython",
    "version": 3
   },
   "file_extension": ".py",
   "mimetype": "text/x-python",
   "name": "python",
   "nbconvert_exporter": "python",
   "pygments_lexer": "ipython3",
   "version": "3.8.0"
  }
 },
 "nbformat": 4,
 "nbformat_minor": 4
}
