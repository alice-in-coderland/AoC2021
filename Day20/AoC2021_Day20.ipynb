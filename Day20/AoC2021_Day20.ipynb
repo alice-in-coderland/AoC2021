{
 "cells": [
  {
   "cell_type": "code",
   "execution_count": 1,
   "metadata": {},
   "outputs": [],
   "source": [
    "import numpy as np"
   ]
  },
  {
   "cell_type": "code",
   "execution_count": 2,
   "metadata": {},
   "outputs": [],
   "source": [
    "inlist = '''..#.#..#####.#.#.#.###.##.....###.##.#..###.####..#####..#....#..#..##..##\n",
    "#..######.###...####..#..#####..##..#.#####...##.#.#..#.##..#.#......#.###\n",
    ".######.###.####...#.##.##..#..#..#####.....#.#....###..#.##......#.....#.\n",
    ".#..#..##..#...##.######.####.####.#.#...#.......#..#.#.#...####.##.#.....\n",
    ".#..#...##.#.##..#...##.#.##..###.#......#.#.......#.#.#.####.###.##...#..\n",
    "...####.#..#..#.##.#....##..#.####....##...##..#...#......#.#.......#.....\n",
    "..##..####..#...#.#.#...##..#.#..###..#####........#..####......#..#'''\n",
    "        \n",
    "im = '''#..#.\n",
    "#....\n",
    "##..#\n",
    "..#..\n",
    "..###'''\n",
    "\n",
    "alg = ''.join([elem.strip() for elem in inlist]).replace('#', '1').replace('.', '0')\n",
    "\n",
    "image = np.array([list(elem.replace('#', '1').replace('.', '0')) for elem in im.split('\\n')])"
   ]
  },
  {
   "cell_type": "code",
   "execution_count": 3,
   "metadata": {},
   "outputs": [],
   "source": [
    "# infile = open('input.txt')\n",
    "# inlist = [elem.strip() for elem in infile.readlines()]\n",
    "\n",
    "# alg = inlist[0].replace('#', '1').replace('.', '0')\n",
    "\n",
    "# image = np.array([list(elem.replace('#', '1').replace('.', '0')) for elem in inlist[2:]])"
   ]
  },
  {
   "cell_type": "code",
   "execution_count": 4,
   "metadata": {},
   "outputs": [],
   "source": [
    "def enhance(img):\n",
    "    \n",
    "    padimage = np.pad(img, (2, 2), 'constant', constant_values=('0', '0'))\n",
    "    newimage = np.full(np.shape(padimage), '0')\n",
    "    i, j = 1, 1\n",
    "    for i in range(1, len(padimage)-1):\n",
    "        for j in range(1, len(padimage[i])-1):\n",
    "            number = ''\n",
    "            for elem in padimage[i-1:i+2, j-1:j+2]:\n",
    "                for char in elem:\n",
    "                    number = number + char\n",
    "            number = int(number, base = 2)\n",
    "            newimage[i,j] = alg[number]\n",
    "    return(newimage)"
   ]
  },
  {
   "cell_type": "code",
   "execution_count": 5,
   "metadata": {},
   "outputs": [
    {
     "data": {
      "text/plain": [
       "35"
      ]
     },
     "execution_count": 5,
     "metadata": {},
     "output_type": "execute_result"
    }
   ],
   "source": [
    "steps = 2\n",
    "outimage = np.copy(image)\n",
    "\n",
    "for i in range(0, steps):\n",
    "    outimage = enhance(outimage)\n",
    "np.sum(outimage == '1')"
   ]
  },
  {
   "cell_type": "code",
   "execution_count": 6,
   "metadata": {},
   "outputs": [
    {
     "name": "stdout",
     "output_type": "stream",
     "text": [
      ".............\n",
      ".............\n",
      ".........#...\n",
      "...#..#.#....\n",
      "..#.#...###..\n",
      "..#...##.#...\n",
      "..#.....#.#..\n",
      "...#.#####...\n",
      "....#.#####..\n",
      ".....##.##...\n",
      "......###....\n",
      ".............\n",
      ".............\n"
     ]
    }
   ],
   "source": [
    "podglad = np.zeros_like(outimage)\n",
    "podglad[outimage == '1'] = '#'\n",
    "podglad[outimage == '0'] = '.'\n",
    "\n",
    "for line in podglad:\n",
    "    linia = ''.join(line)\n",
    "    print(linia)"
   ]
  },
  {
   "cell_type": "code",
   "execution_count": null,
   "metadata": {},
   "outputs": [],
   "source": []
  }
 ],
 "metadata": {
  "kernelspec": {
   "display_name": "Python 3 (ipykernel)",
   "language": "python",
   "name": "python3"
  },
  "language_info": {
   "codemirror_mode": {
    "name": "ipython",
    "version": 3
   },
   "file_extension": ".py",
   "mimetype": "text/x-python",
   "name": "python",
   "nbconvert_exporter": "python",
   "pygments_lexer": "ipython3",
   "version": "3.10.1"
  }
 },
 "nbformat": 4,
 "nbformat_minor": 4
}
