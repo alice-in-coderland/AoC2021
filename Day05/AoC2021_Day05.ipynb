{
 "cells": [
  {
   "cell_type": "code",
   "execution_count": 1,
   "metadata": {},
   "outputs": [],
   "source": [
    "import numpy as np"
   ]
  },
  {
   "cell_type": "code",
   "execution_count": 2,
   "metadata": {},
   "outputs": [],
   "source": [
    "infile = open('input.txt')\n",
    "coords = [elem.rstrip().split(' -> ') for elem in infile.readlines()]\n",
    "\n",
    "maxx = 0\n",
    "maxy = 0\n",
    "cleancoords = []\n",
    "for i, elem in enumerate(coords):\n",
    "    elem[0] = elem[0].split(',')\n",
    "    elem[1] = elem[1].split(',')\n",
    "    x1, y1 = int(elem[0][0]), int(elem[0][1])\n",
    "    x2, y2 = int(elem[1][0]), int(elem[1][1])\n",
    "    if max(x1, x2) > maxx: maxx = max(x1, x2)\n",
    "    if max(y1, y2) > maxy: maxy = max(y1, y2)\n",
    "    if x1 == x2 or y1 == y2:\n",
    "        cleancoords.append([[x1, y1],[x2,y2]])"
   ]
  },
  {
   "cell_type": "code",
   "execution_count": 3,
   "metadata": {},
   "outputs": [],
   "source": [
    "diagram = np.zeros((maxx+1,maxy+1))\n",
    "for coord in cleancoords:\n",
    "    x1, y1 = coord[0][0], coord[0][1]\n",
    "    x2, y2 = coord[1][0], coord[1][1]\n",
    "    if x1 == x2:\n",
    "        sortedy = [min(y1, y2), max(y1, y2)]\n",
    "        y = sortedy[0]\n",
    "        while y <= sortedy[1]:\n",
    "            diagram[x1, y] += 1\n",
    "            y += 1\n",
    "    elif y1 == y2:\n",
    "        sortedx = [min(x1, x2), max(x1, x2)]\n",
    "        x = sortedx[0]\n",
    "        while x <= sortedx[1]:\n",
    "            diagram[x, y1] += 1\n",
    "            x += 1"
   ]
  },
  {
   "cell_type": "code",
   "execution_count": 4,
   "metadata": {},
   "outputs": [
    {
     "data": {
      "text/plain": [
       "6311"
      ]
     },
     "execution_count": 4,
     "metadata": {},
     "output_type": "execute_result"
    }
   ],
   "source": [
    "np.sum(diagram > 1)"
   ]
  },
  {
   "cell_type": "code",
   "execution_count": 5,
   "metadata": {},
   "outputs": [],
   "source": [
    "diagram = np.zeros((maxx+1,maxy+1))\n",
    "for coord in coords:\n",
    "    x, y = 0, 0\n",
    "    incx, incy = 1, 1\n",
    "    x1, y1 = int(coord[0][0]), int(coord[0][1])\n",
    "    x2, y2 = int(coord[1][0]), int(coord[1][1])\n",
    "    if x1 == x2:\n",
    "        sortedy = [min(y1, y2), max(y1, y2)]\n",
    "        y = sortedy[0]\n",
    "        while y <= sortedy[1]:\n",
    "            diagram[x1, y] += 1\n",
    "            y += incy\n",
    "    elif y1 == y2:\n",
    "        sortedx = [min(x1, x2), max(x1, x2)]\n",
    "        x = sortedx[0]\n",
    "        while x <= sortedx[1]:\n",
    "            diagram[x, y1] += 1\n",
    "            x += incx    \n",
    "    else:\n",
    "        x, y = x1, y1  \n",
    "        if x1 < x2:\n",
    "            if y1 < y2:\n",
    "                incx, incy = 1, 1\n",
    "            elif y1 > y2:\n",
    "                incx, incy = 1, -1\n",
    "        elif x1 > x2:\n",
    "            if y1 < y2:\n",
    "                incx, incy = -1, 1\n",
    "            elif y1 > y2:\n",
    "                incx, incy = -1, -1         \n",
    "      \n",
    "        while x != x2+incx:\n",
    "            diagram[x, y] += 1\n",
    "            x += incx\n",
    "            y += incy"
   ]
  },
  {
   "cell_type": "code",
   "execution_count": 6,
   "metadata": {},
   "outputs": [
    {
     "data": {
      "text/plain": [
       "19929"
      ]
     },
     "execution_count": 6,
     "metadata": {},
     "output_type": "execute_result"
    }
   ],
   "source": [
    "np.sum(diagram > 1)"
   ]
  }
 ],
 "metadata": {
  "kernelspec": {
   "display_name": "Python 3",
   "language": "python",
   "name": "python3"
  },
  "language_info": {
   "codemirror_mode": {
    "name": "ipython",
    "version": 3
   },
   "file_extension": ".py",
   "mimetype": "text/x-python",
   "name": "python",
   "nbconvert_exporter": "python",
   "pygments_lexer": "ipython3",
   "version": "3.8.0"
  }
 },
 "nbformat": 4,
 "nbformat_minor": 4
}
