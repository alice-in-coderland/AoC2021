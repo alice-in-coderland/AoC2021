{
 "cells": [
  {
   "cell_type": "code",
   "execution_count": 1,
   "metadata": {},
   "outputs": [],
   "source": [
    "infile = open('input.txt')\n",
    "inlist = infile.readlines()\n",
    "\n",
    "chunks = [elem.strip() for elem in inlist]"
   ]
  },
  {
   "cell_type": "code",
   "execution_count": 2,
   "metadata": {},
   "outputs": [],
   "source": [
    "scores = {\n",
    "    ')': 3,\n",
    "    ']': 57,\n",
    "    '}': 1197,\n",
    "    '>': 25137\n",
    "         }"
   ]
  },
  {
   "cell_type": "code",
   "execution_count": 3,
   "metadata": {},
   "outputs": [],
   "source": [
    "close_brackets = ')]}>'\n",
    "pairs = ['()', '[]', '{}', '<>']"
   ]
  },
  {
   "cell_type": "code",
   "execution_count": 4,
   "metadata": {},
   "outputs": [
    {
     "name": "stdout",
     "output_type": "stream",
     "text": [
      "344193\n"
     ]
    }
   ],
   "source": [
    "def remove_pairs(chunk):\n",
    "    newchunk = chunk\n",
    "    for pair in pairs:\n",
    "        newchunk = newchunk.replace(pair, '')\n",
    "    if newchunk == chunk: return(newchunk)\n",
    "    return(remove_pairs(newchunk))\n",
    "\n",
    "points = 0\n",
    "corrupted = [] #this will be needed for part 2\n",
    "for chunk in chunks:\n",
    "    stripped_chunk = remove_pairs(chunk)\n",
    "    for char in stripped_chunk:\n",
    "        if char in close_brackets:\n",
    "            points += scores[char]\n",
    "            corrupted.append(chunk)\n",
    "            break\n",
    "    \n",
    "print(points)"
   ]
  },
  {
   "cell_type": "code",
   "execution_count": 5,
   "metadata": {},
   "outputs": [],
   "source": [
    "incomplete = [chunk for chunk in chunks if chunk not in corrupted]"
   ]
  },
  {
   "cell_type": "code",
   "execution_count": 6,
   "metadata": {},
   "outputs": [],
   "source": [
    "brackets = {\n",
    "    '(' : ')',\n",
    "    '[' : ']',\n",
    "    '{' : '}',\n",
    "    '<' : '>'\n",
    "        }\n",
    "    "
   ]
  },
  {
   "cell_type": "code",
   "execution_count": 7,
   "metadata": {},
   "outputs": [],
   "source": [
    "scores_completion = {\n",
    "    ')': 1,\n",
    "    ']': 2,\n",
    "    '}': 3,\n",
    "    '>': 4\n",
    "         }"
   ]
  },
  {
   "cell_type": "code",
   "execution_count": 8,
   "metadata": {},
   "outputs": [],
   "source": [
    "import numpy as np"
   ]
  },
  {
   "cell_type": "code",
   "execution_count": 9,
   "metadata": {},
   "outputs": [
    {
     "name": "stdout",
     "output_type": "stream",
     "text": [
      "3241238967\n"
     ]
    }
   ],
   "source": [
    "points = []\n",
    "for chunk in incomplete:\n",
    "    stripped_chunk = remove_pairs(chunk)\n",
    "    completion = ''\n",
    "    for char in stripped_chunk:\n",
    "        completion += brackets[char]\n",
    "    completion = completion[::-1]\n",
    "    localpoints = 0\n",
    "    for char in completion:\n",
    "        #print(chunk, completion, char)\n",
    "        localpoints *= 5\n",
    "        #print(localpoints)\n",
    "        localpoints += scores_completion[char]\n",
    "        #print(localpoints)\n",
    "        #input('Press...')\n",
    "    points.append(localpoints)\n",
    "print(int(np.median(points)))    \n"
   ]
  },
  {
   "cell_type": "code",
   "execution_count": null,
   "metadata": {},
   "outputs": [],
   "source": []
  }
 ],
 "metadata": {
  "kernelspec": {
   "display_name": "Python 3",
   "language": "python",
   "name": "python3"
  },
  "language_info": {
   "codemirror_mode": {
    "name": "ipython",
    "version": 3
   },
   "file_extension": ".py",
   "mimetype": "text/x-python",
   "name": "python",
   "nbconvert_exporter": "python",
   "pygments_lexer": "ipython3",
   "version": "3.8.0"
  }
 },
 "nbformat": 4,
 "nbformat_minor": 4
}
