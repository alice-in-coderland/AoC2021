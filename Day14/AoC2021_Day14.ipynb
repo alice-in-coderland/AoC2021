{
 "cells": [
  {
   "cell_type": "code",
   "execution_count": 1,
   "metadata": {},
   "outputs": [],
   "source": [
    "infile = open('input.txt')\n",
    "inlist = [elem.strip() for elem in infile.readlines()]"
   ]
  },
  {
   "cell_type": "code",
   "execution_count": 2,
   "metadata": {},
   "outputs": [
    {
     "data": {
      "text/plain": [
       "2549"
      ]
     },
     "execution_count": 2,
     "metadata": {},
     "output_type": "execute_result"
    }
   ],
   "source": [
    "# PART 1\n",
    "master_template = inlist[0].split()[0]\n",
    "\n",
    "lrules = [elem.split(' -> ') for elem in inlist if '->' in elem]\n",
    "\n",
    "rules = { elem[0] : elem[1] for elem in lrules }\n",
    "\n",
    "template = master_template\n",
    "\n",
    "def polimerise(temp):\n",
    "    polymer = temp[0]\n",
    "    for i in range(0, len(temp)-1):\n",
    "        pair = temp[i:i+2]\n",
    "        polymer = polymer + rules[pair] + pair[1]\n",
    "    return polymer\n",
    "\n",
    "steps = 10\n",
    "for step in range(0, steps):\n",
    "    template = polimerise(template)\n",
    "\n",
    "from collections import Counter\n",
    "\n",
    "res = Counter(template)\n",
    "minelement = min(res, key = res.get)\n",
    "maxelement = max(res, key = res.get)\n",
    "\n",
    "result = template.count(maxelement) - template.count(minelement)\n",
    "result"
   ]
  },
  {
   "cell_type": "code",
   "execution_count": 3,
   "metadata": {},
   "outputs": [
    {
     "data": {
      "text/plain": [
       "2516901104210"
      ]
     },
     "execution_count": 3,
     "metadata": {},
     "output_type": "execute_result"
    }
   ],
   "source": [
    "# PART 2\n",
    "template = master_template\n",
    "pairs = {}\n",
    "\n",
    "for i in range(0, len(template)-1):\n",
    "    pair = template[i:i+2]\n",
    "    if pair in pairs.keys(): pairs[pair] += 1\n",
    "    else: pairs[pair] = 1\n",
    "\n",
    "steps = 40\n",
    "for step in range(0, steps):\n",
    "    newpairs = pairs.copy()\n",
    "    for pair in pairs.keys():\n",
    "        occurences = pairs[pair]\n",
    "        newpair1 = pair[0] + rules[pair]\n",
    "        if newpair1 in newpairs.keys(): newpairs[newpair1] += occurences\n",
    "        else: newpairs[newpair1] = occurences\n",
    "        newpair2 = rules[pair] + pair[1]\n",
    "        if newpair2 in newpairs.keys(): newpairs[newpair2] += occurences\n",
    "        else: newpairs[newpair2] = occurences\n",
    "        newpairs[pair] -= occurences\n",
    "    pairs = newpairs\n",
    "        \n",
    "\n",
    "elements = set([elem[0] for elem in pairs.keys()])\n",
    "\n",
    "count = { element : 0 for element in elements }\n",
    "\n",
    "for pair in pairs:\n",
    "    for element in elements:\n",
    "        if element == pair[0]: count[element] += pairs[pair]\n",
    "        \n",
    "count[master_template[-1]] +=1\n",
    "\n",
    "freq = list(count.values())\n",
    "\n",
    "max(freq) - min(freq)"
   ]
  }
 ],
 "metadata": {
  "kernelspec": {
   "display_name": "Python 3",
   "language": "python",
   "name": "python3"
  },
  "language_info": {
   "codemirror_mode": {
    "name": "ipython",
    "version": 3
   },
   "file_extension": ".py",
   "mimetype": "text/x-python",
   "name": "python",
   "nbconvert_exporter": "python",
   "pygments_lexer": "ipython3",
   "version": "3.8.0"
  }
 },
 "nbformat": 4,
 "nbformat_minor": 4
}
