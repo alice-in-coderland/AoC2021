{
 "cells": [
  {
   "cell_type": "code",
   "execution_count": 1,
   "metadata": {},
   "outputs": [],
   "source": [
    "infile = open('input.txt')\n",
    "inlist = [elem.rstrip() for elem in infile.readlines()]"
   ]
  },
  {
   "cell_type": "code",
   "execution_count": 2,
   "metadata": {},
   "outputs": [],
   "source": [
    "import numpy as np"
   ]
  },
  {
   "cell_type": "code",
   "execution_count": 3,
   "metadata": {},
   "outputs": [],
   "source": [
    "draw = [int(elem) for elem in inlist[0].split(',')]"
   ]
  },
  {
   "cell_type": "code",
   "execution_count": 4,
   "metadata": {
    "tags": []
   },
   "outputs": [],
   "source": [
    "def winning():\n",
    "    i = 2\n",
    "    array_list = []\n",
    "    while i < len(inlist[1:]):\n",
    "        j = 0\n",
    "        rows = [None] * 5\n",
    "        temp_array = np.zeros((2,5,5))\n",
    "        while j < 5:\n",
    "            rows[j] = [int(elem) for elem in inlist[i+j].split()]\n",
    "            j += 1\n",
    "        for k, row in enumerate(rows):\n",
    "            for l, elem in enumerate(row):\n",
    "                temp_array[0][k][l] = elem\n",
    "        array_list.append(temp_array)\n",
    "        i += j+1\n",
    "\n",
    "    for number in draw:\n",
    "        for board in array_list:\n",
    "            if number in board[0]:\n",
    "                x = np.where(board[0] == number)[0][0]\n",
    "                y = np.where(board[0] == number)[1][0]\n",
    "                board[1][x][y] = 1\n",
    "                if 5 in np.sum(board[1], axis = 0) or 5 in np.sum(board[1], axis = 1):\n",
    "                    return (np.sum(np.multiply(board[0], 1 - board[1])) * number)"
   ]
  },
  {
   "cell_type": "code",
   "execution_count": 5,
   "metadata": {},
   "outputs": [
    {
     "data": {
      "text/plain": [
       "8580.0"
      ]
     },
     "execution_count": 5,
     "metadata": {},
     "output_type": "execute_result"
    }
   ],
   "source": [
    "winning()"
   ]
  },
  {
   "cell_type": "code",
   "execution_count": 13,
   "metadata": {},
   "outputs": [],
   "source": [
    "last_board = []\n",
    "last_number = 0\n",
    "\n",
    "def find_last(arlist):\n",
    "    for number in draw:\n",
    "        for i, board in enumerate(arlist):\n",
    "            if number in board[0]:\n",
    "                x = np.where(board[0] == number)[0][0]\n",
    "                y = np.where(board[0] == number)[1][0]\n",
    "                board[1][x][y] = 1\n",
    "                if 5 in np.sum(board[1], axis = 0) or 5 in np.sum(board[1], axis = 1):\n",
    "                    last_board = board\n",
    "                    last_number = number\n",
    "                    del arlist[i]\n",
    "                    result = np.sum(np.multiply(last_board[0], 1 - last_board[1])) * last_number\n",
    "                    if len(arlist) > 0: return(find_last(arlist))\n",
    "                    else: return(result)\n",
    "\n",
    "def winning_last():\n",
    "    i = 2\n",
    "    array_list = []\n",
    "    while i < len(inlist[1:]):\n",
    "        j = 0\n",
    "        rows = [None] * 5\n",
    "        temp_array = np.zeros((2,5,5))\n",
    "        while j < 5:\n",
    "            rows[j] = [int(elem) for elem in inlist[i+j].split()]\n",
    "            j += 1\n",
    "        for k, row in enumerate(rows):\n",
    "            for l, elem in enumerate(row):\n",
    "                temp_array[0][k][l] = elem\n",
    "        array_list.append(temp_array)\n",
    "        i += j+1\n",
    "\n",
    "    result = find_last(array_list)\n",
    "    return(result)"
   ]
  },
  {
   "cell_type": "code",
   "execution_count": 16,
   "metadata": {
    "tags": []
   },
   "outputs": [
    {
     "data": {
      "text/plain": [
       "9576.0"
      ]
     },
     "execution_count": 16,
     "metadata": {},
     "output_type": "execute_result"
    }
   ],
   "source": [
    "winning_last()"
   ]
  },
  {
   "cell_type": "code",
   "execution_count": null,
   "metadata": {},
   "outputs": [],
   "source": []
  }
 ],
 "metadata": {
  "kernelspec": {
   "display_name": "Python 3",
   "language": "python",
   "name": "python3"
  },
  "language_info": {
   "codemirror_mode": {
    "name": "ipython",
    "version": 3
   },
   "file_extension": ".py",
   "mimetype": "text/x-python",
   "name": "python",
   "nbconvert_exporter": "python",
   "pygments_lexer": "ipython3",
   "version": "3.8.0"
  }
 },
 "nbformat": 4,
 "nbformat_minor": 4
}
