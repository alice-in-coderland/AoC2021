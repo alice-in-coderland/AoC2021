{
 "cells": [
  {
   "cell_type": "code",
   "execution_count": 1,
   "metadata": {},
   "outputs": [],
   "source": [
    "infile = open('input.txt')\n",
    "inlist = [elem.rstrip() for elem in infile.readlines()]"
   ]
  },
  {
   "cell_type": "code",
   "execution_count": 2,
   "metadata": {},
   "outputs": [],
   "source": [
    "no_of_bits = len(inlist[0])"
   ]
  },
  {
   "cell_type": "code",
   "execution_count": 3,
   "metadata": {},
   "outputs": [
    {
     "name": "stdout",
     "output_type": "stream",
     "text": [
      "2498354\n"
     ]
    }
   ],
   "source": [
    "i = 0\n",
    "gamma = list(no_of_bits*'0')\n",
    "epsilon = list(no_of_bits*'0')\n",
    "while i < len(inlist[0]):\n",
    "    zeroes = 0\n",
    "    ones = 0\n",
    "    for elem in inlist:\n",
    "        if elem[i] == '0': zeroes += 1\n",
    "        elif elem[i] == '1': ones += 1\n",
    "    if ones > zeroes : gamma[i] = '1'\n",
    "    elif ones < zeroes: epsilon[i] = '1'\n",
    "    \n",
    "    i+=1\n",
    "\n",
    "gamma = int(\"\".join(str(elem) for elem in gamma), 2)\n",
    "epsilon = int(\"\".join(str(elem) for elem in epsilon), 2)\n",
    "print(gamma*epsilon)"
   ]
  },
  {
   "cell_type": "code",
   "execution_count": 4,
   "metadata": {},
   "outputs": [],
   "source": [
    "def select_number(numberlist, bitnumber, direction):\n",
    "    if len(numberlist) == 1: \n",
    "        x=(int(\"\".join(str(elem) for elem in numberlist[0]), 2))\n",
    "        return(x)\n",
    "    else:\n",
    "        zeroes = 0\n",
    "        ones = 0\n",
    "        checksum = '0'\n",
    "        for elem in numberlist:\n",
    "            if elem[bitnumber] == '0': zeroes += 1\n",
    "            elif elem[bitnumber] == '1': ones += 1\n",
    "        if direction == 'common':\n",
    "            if ones >= zeroes : checksum = '1'\n",
    "        if direction == 'uncommon':\n",
    "            if ones < zeroes : checksum = '1'\n",
    "        newlist = [number for number in numberlist if number[bitnumber] == checksum]\n",
    "        return select_number(newlist, bitnumber+1, direction)"
   ]
  },
  {
   "cell_type": "code",
   "execution_count": 5,
   "metadata": {},
   "outputs": [],
   "source": [
    "OGR = select_number(inlist, 0, 'common')"
   ]
  },
  {
   "cell_type": "code",
   "execution_count": 6,
   "metadata": {},
   "outputs": [],
   "source": [
    "CO2SR = select_number(inlist, 0, 'uncommon')"
   ]
  },
  {
   "cell_type": "code",
   "execution_count": 7,
   "metadata": {},
   "outputs": [
    {
     "data": {
      "text/plain": [
       "3277956"
      ]
     },
     "execution_count": 7,
     "metadata": {},
     "output_type": "execute_result"
    }
   ],
   "source": [
    "OGR*CO2SR"
   ]
  },
  {
   "cell_type": "code",
   "execution_count": null,
   "metadata": {},
   "outputs": [],
   "source": []
  }
 ],
 "metadata": {
  "kernelspec": {
   "display_name": "Python 3",
   "language": "python",
   "name": "python3"
  },
  "language_info": {
   "codemirror_mode": {
    "name": "ipython",
    "version": 3
   },
   "file_extension": ".py",
   "mimetype": "text/x-python",
   "name": "python",
   "nbconvert_exporter": "python",
   "pygments_lexer": "ipython3",
   "version": "3.8.0"
  }
 },
 "nbformat": 4,
 "nbformat_minor": 4
}
