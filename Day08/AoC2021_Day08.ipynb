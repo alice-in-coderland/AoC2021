{
 "cells": [
  {
   "cell_type": "code",
   "execution_count": 1,
   "metadata": {},
   "outputs": [],
   "source": [
    "infile = open('input.txt')\n",
    "inlist = infile.readlines()"
   ]
  },
  {
   "cell_type": "code",
   "execution_count": 2,
   "metadata": {},
   "outputs": [],
   "source": [
    "notes = [elem.strip() for elem in inlist]"
   ]
  },
  {
   "cell_type": "code",
   "execution_count": 3,
   "metadata": {},
   "outputs": [
    {
     "name": "stdout",
     "output_type": "stream",
     "text": [
      "239\n"
     ]
    }
   ],
   "source": [
    "count = 0\n",
    "for note in notes:\n",
    "    signal, output = [elem.split(' ') for elem in note.split(' | ')]\n",
    "    for number in output:\n",
    "        if len(number) in [2, 3, 4, 7]: count += 1\n",
    "print(count)"
   ]
  },
  {
   "cell_type": "code",
   "execution_count": 4,
   "metadata": {
    "tags": []
   },
   "outputs": [
    {
     "name": "stdout",
     "output_type": "stream",
     "text": [
      "946346\n"
     ]
    }
   ],
   "source": [
    "segments = {\n",
    "    'a': '',\n",
    "    'b': '',\n",
    "    'c': '',\n",
    "    'd': '',\n",
    "    'e': '',\n",
    "    'f': ''}\n",
    "\n",
    "display = [0]*len(notes)\n",
    "\n",
    "for pos, note in enumerate(notes):\n",
    "    out = [0]*4\n",
    "    signal, output = [elem.split(' ') for elem in note.split(' | ')]\n",
    "    signal = sorted(signal, key=len)\n",
    "    one = set(signal[0])\n",
    "    seven = set(signal[1])\n",
    "    four = set(signal[2])\n",
    "    eight = set(signal[9])\n",
    "    segments['a'] = list(seven - one)[0]\n",
    "    bd = four - one\n",
    "    segments['g'] = list(((set(signal[3]) & set(signal[4]) & set(signal[5])) - seven) - four)[0]\n",
    "    nine = four.copy()\n",
    "    nine.add(segments['a'])\n",
    "    nine.add(segments['g'])\n",
    "    segments['e'] = list(eight - nine)[0] \n",
    "    aeg = eight - four\n",
    "    for code in signal[3:6]:\n",
    "        if len(set(code) - nine) > 0:\n",
    "            two = set(code)\n",
    "    segments['f'] = list(one - two)[0]\n",
    "    segments['c'] = list(one - set(segments['f']))[0]\n",
    "    segments['b'] = list(four - two - set(segments['f']))[0]\n",
    "    segments['d'] = list(bd - set(segments['b']))[0]\n",
    "\n",
    "    zero = {segments['a'], segments['b'], segments['c'], segments['e'], segments['f'], segments['g']}\n",
    "    three = {segments['a'], segments['c'], segments['d'], segments['f'], segments['g']}\n",
    "    five = {segments['a'], segments['b'], segments['d'], segments['f'], segments['g']}\n",
    "    six = {segments['a'], segments['b'], segments['d'], segments['e'], segments['f'], segments['g']}\n",
    "    codes = [zero, one, two, three, four, five, six, seven, eight, nine]\n",
    "    for i, number in enumerate(output):\n",
    "        for j, code in enumerate(codes):\n",
    "            if set(number) == code: out[i] = j\n",
    "    display[pos] = int(''.join([str(elem) for elem in out]))\n",
    "print(sum(display))"
   ]
  },
  {
   "cell_type": "code",
   "execution_count": null,
   "metadata": {},
   "outputs": [],
   "source": []
  }
 ],
 "metadata": {
  "kernelspec": {
   "display_name": "Python 3",
   "language": "python",
   "name": "python3"
  },
  "language_info": {
   "codemirror_mode": {
    "name": "ipython",
    "version": 3
   },
   "file_extension": ".py",
   "mimetype": "text/x-python",
   "name": "python",
   "nbconvert_exporter": "python",
   "pygments_lexer": "ipython3",
   "version": "3.8.0"
  }
 },
 "nbformat": 4,
 "nbformat_minor": 4
}
