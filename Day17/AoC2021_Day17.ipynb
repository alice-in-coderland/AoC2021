{
 "cells": [
  {
   "cell_type": "code",
   "execution_count": 1,
   "metadata": {},
   "outputs": [],
   "source": [
    "from math import sqrt"
   ]
  },
  {
   "cell_type": "code",
   "execution_count": 2,
   "metadata": {},
   "outputs": [],
   "source": [
    "infile = open('input.txt')\n",
    "inlist = [elem.strip() for elem in infile.readlines()]"
   ]
  },
  {
   "cell_type": "code",
   "execution_count": 3,
   "metadata": {},
   "outputs": [],
   "source": [
    "targetx = [int(elem) for elem in inlist[0].split('x=')[1].split(', y')[0].split('..')]\n",
    "\n",
    "targety = [int(elem) for elem in inlist[0].split('y=')[1].split('..')]"
   ]
  },
  {
   "cell_type": "code",
   "execution_count": 4,
   "metadata": {},
   "outputs": [],
   "source": [
    "def probe(vx, vy):\n",
    "    x, y = 0, 0\n",
    "    maxy = y\n",
    "    \n",
    "    while 1:\n",
    "        #adjust probe position\n",
    "        x = x + vx\n",
    "        y = y + vy\n",
    "        if y > maxy: maxy = y\n",
    "        #check if probe in the target area\n",
    "        if x in range(targetx[0], targetx[1]+1) and y in range(targety[0], targety[1]+1):\n",
    "            return(True, maxy)\n",
    "        elif x > targetx[1]+1 or y < targety[0]-1:\n",
    "            return(False, 0)\n",
    "        #adjust velocity\n",
    "        if vx < 0: vx += 1\n",
    "        elif vx > 0: vx -= 1\n",
    "        vy -= 1\n",
    "\n"
   ]
  },
  {
   "cell_type": "markdown",
   "metadata": {},
   "source": [
    "PART 1"
   ]
  },
  {
   "cell_type": "code",
   "execution_count": 5,
   "metadata": {},
   "outputs": [],
   "source": [
    "vxmin, vxmax = int(sqrt(targetx[0] * 2)), targetx[1]\n",
    "vymin, vymax = 0, abs(targety[0])+1"
   ]
  },
  {
   "cell_type": "code",
   "execution_count": 6,
   "metadata": {},
   "outputs": [
    {
     "name": "stdout",
     "output_type": "stream",
     "text": [
      "Maximal height was: 6555\n"
     ]
    }
   ],
   "source": [
    "maxheight = 0\n",
    "for vx in range(vxmin, vxmax):\n",
    "    for vy in range(vymin, vymax):\n",
    "        hit, height = probe(vx, vy)\n",
    "        if height > maxheight: maxheight = height\n",
    "        \n",
    "\n",
    "print('Maximal height was:', maxheight)"
   ]
  },
  {
   "cell_type": "markdown",
   "metadata": {},
   "source": [
    "PART 2"
   ]
  },
  {
   "cell_type": "code",
   "execution_count": 7,
   "metadata": {},
   "outputs": [],
   "source": [
    "vxmin, vxmax = 1, targetx[1]+1\n",
    "vymin, vymax = targety[0], abs(targety[0])+1"
   ]
  },
  {
   "cell_type": "code",
   "execution_count": 8,
   "metadata": {
    "tags": []
   },
   "outputs": [
    {
     "name": "stdout",
     "output_type": "stream",
     "text": [
      "There are 4973 ways to hit the target area\n"
     ]
    }
   ],
   "source": [
    "\n",
    "maxheight = 0\n",
    "velocities = 0\n",
    "                \n",
    "for vx in range(vxmin, vxmax):\n",
    "    for vy in range(vymin, vymax):\n",
    "        hit, height = probe(vx, vy)\n",
    "        if hit:\n",
    "            velocities +=1\n",
    "            if height > maxheight: maxheight = height            \n",
    "            \n",
    "print('There are', velocities, 'ways to hit the target area')"
   ]
  },
  {
   "cell_type": "code",
   "execution_count": null,
   "metadata": {},
   "outputs": [],
   "source": []
  }
 ],
 "metadata": {
  "kernelspec": {
   "display_name": "Python 3 (ipykernel)",
   "language": "python",
   "name": "python3"
  },
  "language_info": {
   "codemirror_mode": {
    "name": "ipython",
    "version": 3
   },
   "file_extension": ".py",
   "mimetype": "text/x-python",
   "name": "python",
   "nbconvert_exporter": "python",
   "pygments_lexer": "ipython3",
   "version": "3.10.1"
  }
 },
 "nbformat": 4,
 "nbformat_minor": 4
}
