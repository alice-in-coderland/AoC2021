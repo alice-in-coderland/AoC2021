{
 "cells": [
  {
   "cell_type": "code",
   "execution_count": 1,
   "metadata": {},
   "outputs": [],
   "source": [
    "infile = open('input.txt')\n",
    "inlist = [elem.strip() for elem in infile.readlines()]"
   ]
  },
  {
   "cell_type": "code",
   "execution_count": 2,
   "metadata": {},
   "outputs": [],
   "source": [
    "caves = [elem.split('-') for elem in inlist]\n",
    "for i in range(0, len(caves)):\n",
    "        caves.append(caves[i][::-1])\n",
    "\n",
    "entryset = set([elem[0] for elem in caves])\n",
    "\n",
    "dcaves = {k : [] for k in entryset}\n",
    "\n",
    "for cave in caves:\n",
    "    dcaves[cave[0]].append(cave[1])"
   ]
  },
  {
   "cell_type": "code",
   "execution_count": 3,
   "metadata": {},
   "outputs": [
    {
     "data": {
      "text/plain": [
       "3369"
      ]
     },
     "execution_count": 3,
     "metadata": {},
     "output_type": "execute_result"
    }
   ],
   "source": [
    "paths = []\n",
    "\n",
    "def get_connection(cave, visited):\n",
    "    if cave in dcaves.keys():\n",
    "        possible_connections = dcaves[cave]\n",
    "        for connection in possible_connections:\n",
    "            if connection != 'start':\n",
    "                newpath = visited.copy()\n",
    "                newpath.append(connection)\n",
    "                if connection == 'end':\n",
    "                    if newpath not in paths: paths.append(newpath)\n",
    "                elif (connection.islower() and connection not in visited) or connection.isupper():\n",
    "                    get_connection(connection, newpath)\n",
    "\n",
    "\n",
    "path = ['start']\n",
    "path = get_connection(path[0], path)\n",
    "\n",
    "\n",
    "len(paths)"
   ]
  },
  {
   "cell_type": "code",
   "execution_count": 4,
   "metadata": {},
   "outputs": [
    {
     "data": {
      "text/plain": [
       "85883"
      ]
     },
     "execution_count": 4,
     "metadata": {},
     "output_type": "execute_result"
    }
   ],
   "source": [
    "paths = []\n",
    "\n",
    "def get_connection(cave, visited, maxachieved):\n",
    "    if cave in dcaves.keys():\n",
    "        possible_connections = dcaves[cave]\n",
    "        for connection in possible_connections:\n",
    "            if connection != 'start':\n",
    "                newpath = visited.copy()\n",
    "                newpath.append(connection)\n",
    "                if connection == 'end':\n",
    "                    if newpath not in paths: \n",
    "                        paths.append(newpath)\n",
    "                elif connection.isupper():\n",
    "                    get_connection(connection, newpath, maxachieved)\n",
    "                elif connection.islower():\n",
    "                    if connection in visited:\n",
    "                        if not maxachieved:\n",
    "                            get_connection(connection, newpath, True)\n",
    "                    else:\n",
    "                        get_connection(connection, newpath, maxachieved)\n",
    "                            \n",
    "\n",
    "        \n",
    "\n",
    "\n",
    "path = ['start']\n",
    "path = get_connection(path[0], path, False)\n",
    "\n",
    "\n",
    "len(paths)"
   ]
  },
  {
   "cell_type": "code",
   "execution_count": null,
   "metadata": {},
   "outputs": [],
   "source": []
  }
 ],
 "metadata": {
  "kernelspec": {
   "display_name": "Python 3",
   "language": "python",
   "name": "python3"
  },
  "language_info": {
   "codemirror_mode": {
    "name": "ipython",
    "version": 3
   },
   "file_extension": ".py",
   "mimetype": "text/x-python",
   "name": "python",
   "nbconvert_exporter": "python",
   "pygments_lexer": "ipython3",
   "version": "3.8.0"
  }
 },
 "nbformat": 4,
 "nbformat_minor": 4
}
